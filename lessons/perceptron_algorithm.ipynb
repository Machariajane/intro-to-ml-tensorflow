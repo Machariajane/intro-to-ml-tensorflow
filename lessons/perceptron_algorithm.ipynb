{
 "cells": [
  {
   "cell_type": "code",
   "execution_count": 2,
   "id": "13e24343",
   "metadata": {},
   "outputs": [],
   "source": [
    "import numpy as np\n",
    "np.random.seed(42)"
   ]
  },
  {
   "cell_type": "code",
   "execution_count": 3,
   "id": "cc65ebe7",
   "metadata": {},
   "outputs": [],
   "source": [
    "def step_function(t):\n",
    "    if t>= 0:\n",
    "        return 1\n",
    "    return 0\n",
    "    "
   ]
  },
  {
   "cell_type": "code",
   "execution_count": 50,
   "id": "8673390f",
   "metadata": {},
   "outputs": [],
   "source": [
    "def prediction(X,W,b):\n",
    "    return step_function((np.matmul(X,W)+b)[0])\n",
    "    "
   ]
  },
  {
   "cell_type": "code",
   "execution_count": 46,
   "id": "09fdd3b2",
   "metadata": {},
   "outputs": [
    {
     "data": {
      "text/plain": [
       "array([[0.04645041],\n",
       "       [0.60754485]])"
      ]
     },
     "execution_count": 46,
     "metadata": {},
     "output_type": "execute_result"
    }
   ],
   "source": [
    "W = np.array(np.random.rand(2,1))\n",
    "W"
   ]
  },
  {
   "cell_type": "code",
   "execution_count": 15,
   "id": "db3caeb9",
   "metadata": {},
   "outputs": [
    {
     "data": {
      "text/plain": [
       "array([[0.70807258, 0.02058449]])"
      ]
     },
     "execution_count": 15,
     "metadata": {},
     "output_type": "execute_result"
    }
   ],
   "source": [
    "X = np.array(np.random.rand(1,2))\n",
    "X"
   ]
  },
  {
   "cell_type": "code",
   "execution_count": 16,
   "id": "958308da",
   "metadata": {},
   "outputs": [
    {
     "data": {
      "text/plain": [
       "0.9699098521619943"
      ]
     },
     "execution_count": 16,
     "metadata": {},
     "output_type": "execute_result"
    }
   ],
   "source": [
    "b =  np.random.rand(1)[0]\n",
    "b"
   ]
  },
  {
   "cell_type": "code",
   "execution_count": 31,
   "id": "a4bf52ad",
   "metadata": {},
   "outputs": [
    {
     "data": {
      "text/plain": [
       "array([1.59559908])"
      ]
     },
     "execution_count": 31,
     "metadata": {},
     "output_type": "execute_result"
    }
   ],
   "source": [
    "(np.matmul(X,W) + b)[0]"
   ]
  },
  {
   "cell_type": "code",
   "execution_count": 32,
   "id": "7cbfaf7c",
   "metadata": {},
   "outputs": [
    {
     "data": {
      "text/plain": [
       "array([1.59559908])"
      ]
     },
     "execution_count": 32,
     "metadata": {},
     "output_type": "execute_result"
    }
   ],
   "source": [
    "(((W[0]*X[0][0]) + (W[1]*X[0][1]))+b)"
   ]
  },
  {
   "cell_type": "code",
   "execution_count": 40,
   "id": "c604cce3",
   "metadata": {},
   "outputs": [
    {
     "data": {
      "text/plain": [
       "array([[0.83244264, 0.21233911, 0.18182497],\n",
       "       [0.18340451, 0.30424224, 0.52475643],\n",
       "       [0.43194502, 0.29122914, 0.61185289],\n",
       "       [0.13949386, 0.29214465, 0.36636184],\n",
       "       [0.45606998, 0.78517596, 0.19967378]])"
      ]
     },
     "execution_count": 40,
     "metadata": {},
     "output_type": "execute_result"
    }
   ],
   "source": [
    "X1 = np.array(np.random.rand(5,3))\n",
    "X1"
   ]
  },
  {
   "cell_type": "code",
   "execution_count": 41,
   "id": "41cd2570",
   "metadata": {},
   "outputs": [
    {
     "data": {
      "text/plain": [
       "array([[0.83244264, 0.18340451, 0.43194502, 0.13949386, 0.45606998],\n",
       "       [0.21233911, 0.30424224, 0.29122914, 0.29214465, 0.78517596],\n",
       "       [0.18182497, 0.52475643, 0.61185289, 0.36636184, 0.19967378]])"
      ]
     },
     "execution_count": 41,
     "metadata": {},
     "output_type": "execute_result"
    }
   ],
   "source": [
    "X1.T"
   ]
  },
  {
   "cell_type": "code",
   "execution_count": 44,
   "id": "02b63cbf",
   "metadata": {},
   "outputs": [
    {
     "data": {
      "text/plain": [
       "0.13949386065204183"
      ]
     },
     "execution_count": 44,
     "metadata": {},
     "output_type": "execute_result"
    }
   ],
   "source": [
    "min(X1.T[0])"
   ]
  },
  {
   "cell_type": "code",
   "execution_count": 43,
   "id": "65a7a598",
   "metadata": {},
   "outputs": [
    {
     "data": {
      "text/plain": [
       "array([0.21233911, 0.30424224, 0.29122914, 0.29214465, 0.78517596])"
      ]
     },
     "execution_count": 43,
     "metadata": {},
     "output_type": "execute_result"
    }
   ],
   "source": [
    "X1.T[1]"
   ]
  },
  {
   "cell_type": "code",
   "execution_count": 34,
   "id": "35520ba7",
   "metadata": {},
   "outputs": [],
   "source": [
    "def perceptron_step(X , y ,W, b , learn_rate = 0.01):\n",
    "    for i in range(len(X)):\n",
    "        y_hat = prediction(X[i],W ,b)\n",
    "        if y[i] - y_hat == 1 :\n",
    "            W[0] += X[i][0]*learn_rate\n",
    "            W[1] += X[i][1]*learn_rate\n",
    "            b += learn_rate\n",
    "        elif  y[i] - y_hat == -1 :\n",
    "            W[0] -= X[i][0]*learn_rate\n",
    "            W[1] -= X[i][1]*learn_rate\n",
    "            b -= learn_rate\n",
    "    return W , b"
   ]
  },
  {
   "cell_type": "code",
   "execution_count": 56,
   "id": "949862aa",
   "metadata": {},
   "outputs": [],
   "source": [
    "def perceptron_algorithm(X ,y , learn_rate = 0.01 , num_epochs = 50):\n",
    "    x_min,x_max = min(X.T[0]) , max(X.T[0])\n",
    "    y_min ,y_max = min(X.T[1]) , max(X.T[1])\n",
    "    W = np.array(np.random.rand(2,1))\n",
    "    b = np.random.rand(1)[0] + x_max\n",
    "    boundary_lines = []\n",
    "    for i in range(num_epochs):\n",
    "        W , b = perceptron_step(X , y ,W, b , learn_rate)\n",
    "        boundary_lines.append((-W[0]/W[1] ,-b/W[1]))\n",
    "    return boundary_lines\n",
    "    "
   ]
  },
  {
   "cell_type": "code",
   "execution_count": 57,
   "id": "8578f36a",
   "metadata": {},
   "outputs": [],
   "source": [
    "X = np.array([[1, 2], [2, 1], [3, 4], [4, 3]])\n",
    "y = np.array([-1, -1, 1, 1])"
   ]
  },
  {
   "cell_type": "code",
   "execution_count": 58,
   "id": "8baf5ec0",
   "metadata": {},
   "outputs": [],
   "source": [
    "boundary_lines = perceptron_algorithm(X,y)"
   ]
  },
  {
   "cell_type": "code",
   "execution_count": 103,
   "id": "807dff1c",
   "metadata": {},
   "outputs": [],
   "source": [
    "import pandas as pd\n",
    "import numpy as np\n",
    "import matplotlib.pyplot as plt\n",
    "\n",
    "def perceptron_algorithm(X, y, learning_rate=0.01, epochs=1000):\n",
    "    X = X.to_numpy()  # Convert dataframe to NumPy array\n",
    "    y = y.to_numpy()  # Convert dataframe to NumPy array\n",
    "    \n",
    "    n_samples, n_features = X.shape\n",
    "    weights = np.zeros(n_features)\n",
    "    bias = 0\n",
    "    \n",
    "    for _ in range(epochs):\n",
    "        for i in range(n_samples):\n",
    "            prediction = np.dot(X[i], weights) + bias\n",
    "            if prediction >= 0:\n",
    "                y_pred = 1\n",
    "            else:\n",
    "                y_pred = -1\n",
    "            \n",
    "            if y_pred != y[i]:\n",
    "                weights += learning_rate  *y[i]*  X[i]\n",
    "                bias += learning_rate * y[i]\n",
    "    \n",
    "    return weights, bias\n",
    "\n",
    "def plot_boundary(X, y, weights, bias):\n",
    "    plt.scatter(X[:, 0], X[:, 1], c=y)\n",
    "    \n",
    "    x_min, x_max = X[:, 0].min() - 1, X[:, 0].max() + 1\n",
    "    y_min, y_max = X[:, 1].min() - 1, X[:, 1].max() + 1\n",
    "    \n",
    "    xx, yy = np.meshgrid(np.arange(x_min, x_max, 0.1),\n",
    "                         np.arange(y_min, y_max, 0.1))\n",
    "    \n",
    "    Z = np.sign(np.dot(np.c_[xx.ravel(), yy.ravel()], weights) + bias)\n",
    "    Z = Z.reshape(xx.shape)\n",
    "    \n",
    "    plt.contourf(xx, yy, Z, alpha=0.3)\n",
    "    plt.plot([x_min, x_max], [-(weights[0]*x_min + bias)/weights[1], -(weights[0]*x_max + bias)/weights[1]], 'k-')\n",
    "    plt.show()\n",
    "\n"
   ]
  },
  {
   "cell_type": "code",
   "execution_count": 104,
   "id": "dffb754d",
   "metadata": {},
   "outputs": [],
   "source": [
    "# Example usage with dataframe\n",
    "df = pd.read_csv('perceptron_data.csv',header=None)\n",
    "# Assuming your dataframe is called 'df'\n",
    "df[2] = df[2].replace(0, -1)\n",
    "X = df[[ 0, 1]]\n",
    "y = pd.Series(df[[2]][2])"
   ]
  },
  {
   "cell_type": "code",
   "execution_count": 105,
   "id": "7a420a77",
   "metadata": {},
   "outputs": [
    {
     "data": {
      "image/png": "[encoded data removed]",
      "text/plain": [
       "<Figure size 640x480 with 1 Axes>"
      ]
     },
     "metadata": {},
     "output_type": "display_data"
    }
   ],
   "source": [
    "weights, bias = perceptron_algorithm(X, y)\n",
    "plot_boundary(X.to_numpy(), y.to_numpy(), weights, bias)\n"
   ]
  },
  {
   "cell_type": "code",
   "execution_count": null,
   "id": "5a94e5e5",
   "metadata": {},
   "outputs": [],
   "source": []
  }
 ],
 "metadata": {
  "kernelspec": {
   "display_name": "Python 3 (ipykernel)",
   "language": "python",
   "name": "python3"
  },
  "language_info": {
   "codemirror_mode": {
    "name": "ipython",
    "version": 3
   },
   "file_extension": ".py",
   "mimetype": "text/x-python",
   "name": "python",
   "nbconvert_exporter": "python",
   "pygments_lexer": "ipython3",
   "version": "3.7.13"
  }
 },
 "nbformat": 4,
 "nbformat_minor": 5
}
