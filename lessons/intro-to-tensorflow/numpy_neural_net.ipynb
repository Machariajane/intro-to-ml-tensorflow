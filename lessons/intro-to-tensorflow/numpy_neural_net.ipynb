{
 "cells": [
  {
   "cell_type": "markdown",
   "id": "908d7386",
   "metadata": {},
   "source": [
    "1. fit function to data features (X) and label (y)\n",
    "2. Start with random weights (W)\n",
    "3. use WX + b to do feedforward\n",
    "4. apply activation fxn to get preediction (p)\n",
    "5. compare y with p \n",
    "6. evaluate with  an objective function (MSE)\n",
    "7. use optimization function (Gradient descent) to reduce the objective funtion\n",
    "8. update the weights using back propagation\n",
    "9. repeat from step 3 (epochs)"
   ]
  },
  {
   "cell_type": "code",
   "execution_count": 58,
   "id": "1336b8f1",
   "metadata": {},
   "outputs": [],
   "source": [
    "import numpy as np\n",
    "import matplotlib.pyplot as plt\n"
   ]
  },
  {
   "cell_type": "code",
   "execution_count": 59,
   "id": "dec41138",
   "metadata": {},
   "outputs": [],
   "source": [
    "# intialize inputs , output , weights , bias\n",
    "# neural net with 2 layers"
   ]
  },
  {
   "cell_type": "code",
   "execution_count": 60,
   "id": "d0065740",
   "metadata": {},
   "outputs": [],
   "source": [
    "# set seed\n",
    "np.random.seed(42)"
   ]
  },
  {
   "cell_type": "code",
   "execution_count": 61,
   "id": "01e8c1b7",
   "metadata": {},
   "outputs": [],
   "source": [
    "X = np.random.normal(size=(5, 2))\n",
    "\n",
    "y = np.random.normal(size=(5, 1))"
   ]
  },
  {
   "cell_type": "code",
   "execution_count": 62,
   "id": "acde0d8b",
   "metadata": {},
   "outputs": [],
   "source": [
    "# number of input features\n",
    "n_input = X.shape[1]\n",
    "\n",
    "# number of hidden layers\n",
    "n_hidden = 2\n",
    "\n",
    "# number of output\n",
    "n_output = 1"
   ]
  },
  {
   "cell_type": "code",
   "execution_count": 63,
   "id": "5d720233",
   "metadata": {},
   "outputs": [],
   "source": [
    "# create random weights for layer 1\n",
    "# inputs to hidden layer\n",
    "w1 = np.random.normal(size = (n_input ,n_hidden))\n",
    "# create random weights for layer 2\n",
    "# hidden layer to output\n",
    "w2 = np.random.normal(size = (n_hidden ,n_output ))"
   ]
  },
  {
   "cell_type": "code",
   "execution_count": 64,
   "id": "4c276cef",
   "metadata": {},
   "outputs": [],
   "source": [
    "# create bias terms\n",
    "b1 = np.random.normal(size = (1,n_hidden))\n",
    "b2 = np.random.normal(size = (1,n_output))\n"
   ]
  },
  {
   "cell_type": "code",
   "execution_count": 65,
   "id": "6d547377",
   "metadata": {},
   "outputs": [
    {
     "name": "stdout",
     "output_type": "stream",
     "text": [
      "Features Shape: (5, 2)\n",
      "Labels Shape: (5, 1)\n",
      "Weights Shape: (2, 2)\n",
      "Weights Shape: (2, 1)\n",
      "Bias Shape: (1, 2)\n",
      "Bias Shape: (1, 1)\n"
     ]
    }
   ],
   "source": [
    "print('Features Shape:', X.shape)\n",
    "print('Labels Shape:', y.shape)\n",
    "print('Weights Shape:', w1.shape)\n",
    "print('Weights Shape:', w2.shape)\n",
    "print('Bias Shape:', b1.shape)\n",
    "print('Bias Shape:', b2.shape)"
   ]
  },
  {
   "cell_type": "code",
   "execution_count": 66,
   "id": "7084bd64",
   "metadata": {},
   "outputs": [],
   "source": [
    "# activation function\n",
    "\n",
    "def sigmoid(x):\n",
    "    return 1/(1 + np.exp(-x))\n",
    "\n",
    "\n",
    "def sigmoid_prime (x):\n",
    "    return sigmoid(x) * (1-sigmoid(x))\n"
   ]
  },
  {
   "cell_type": "code",
   "execution_count": 67,
   "id": "c350bdda",
   "metadata": {},
   "outputs": [],
   "source": [
    "# forward propagation\n",
    "def forward_propagation(X,w1,w2,b1,b2):\n",
    "    x1  = np.dot(X,w1) + b1\n",
    "    l1  = sigmoid(x1)\n",
    "    x2 = np.dot(l1,w2) + b2\n",
    "    l2 = sigmoid(x2)\n",
    "    return x1,l1,x2,l2"
   ]
  },
  {
   "cell_type": "code",
   "execution_count": 68,
   "id": "a8400145",
   "metadata": {},
   "outputs": [],
   "source": [
    "def objective_fxn(y , l2):\n",
    "    return np.mean(np.square(y - l2))\n"
   ]
  },
  {
   "cell_type": "code",
   "execution_count": 69,
   "id": "c2abaeec",
   "metadata": {},
   "outputs": [],
   "source": [
    "learning_rate = 0.1\n",
    "epochs = 1000"
   ]
  },
  {
   "cell_type": "code",
   "execution_count": 70,
   "id": "dd3475d9",
   "metadata": {},
   "outputs": [],
   "source": [
    "def back_propagation(l2, y, x2, x1, l1 , w2,X):\n",
    "    '''calculate error   \n",
    "    and error term  (delta d) '''\n",
    "    error = l2 - y\n",
    "    \n",
    "    d2 = error*sigmoid_prime(x2)\n",
    "    \n",
    "    d_w2 = np.dot(l1.T,d2)\n",
    "    \n",
    "    d_b2 = np.sum(d2,axis=0 ,keepdims=True)\n",
    "    \n",
    "    d1 = np.dot(d2,w2.T) * sigmoid_prime(x1)\n",
    "    \n",
    "    d_w1 = np.dot(X.T,d1)\n",
    "    \n",
    "    d_b1 = np.sum(d1,axis=0)\n",
    "    \n",
    "    return d_w2,d_b2,d_w1,d_b1"
   ]
  },
  {
   "cell_type": "code",
   "execution_count": 71,
   "id": "963bad71",
   "metadata": {},
   "outputs": [],
   "source": [
    "def update_parameters (d_w2,d_b2,d_w1,d_b1,w1,w2,b1,b2 ,learning_rate):\n",
    "    '''update weights with the error term and learning rate'''\n",
    "    w1  -= learning_rate * d_w1\n",
    "    b1  -= learning_rate * d_b1\n",
    "    w2  -= learning_rate * d_w2\n",
    "    b2  -= learning_rate * d_b2\n",
    "    return w1,b1,w2,b2\n"
   ]
  },
  {
   "cell_type": "code",
   "execution_count": 72,
   "id": "ca9d9bf5",
   "metadata": {},
   "outputs": [
    {
     "name": "stdout",
     "output_type": "stream",
     "text": [
      "Epoch : 0 , Loss : 1.7498\n",
      "Epoch : 100 , Loss : 1.4457\n",
      "Epoch : 200 , Loss : 1.4353\n",
      "Epoch : 300 , Loss : 1.4319\n",
      "Epoch : 400 , Loss : 1.4302\n",
      "Epoch : 500 , Loss : 1.4292\n",
      "Epoch : 600 , Loss : 1.4285\n",
      "Epoch : 700 , Loss : 1.4281\n",
      "Epoch : 800 , Loss : 1.4277\n",
      "Epoch : 900 , Loss : 1.4274\n"
     ]
    }
   ],
   "source": [
    "losses = []\n",
    "for epoch in range(epochs):\n",
    "    x1,l1,x2,l2 = forward_propagation(X,w1,w2,b1,b2)\n",
    "    d_w2,d_b2,d_w1,d_b1 = back_propagation(l2, y, x2, x1, l1 , w2,X)\n",
    "    w1,b1,w2,b2 = update_parameters (d_w2,d_b2,d_w1,d_b1,w1,w2,b1,b2 ,learning_rate)\n",
    "    loss = objective_fxn(y,l2)\n",
    "    losses.append(loss)\n",
    "    if epoch % 100 == 0:\n",
    "        print (f\"Epoch : {epoch} , Loss : {loss:.4f}\")\n",
    "        "
   ]
  },
  {
   "cell_type": "code",
   "execution_count": 73,
   "id": "4273cfe2",
   "metadata": {},
   "outputs": [
    {
     "data": {
      "image/png": "[encoded data removed]",
      "text/plain": [
       "<Figure size 640x480 with 1 Axes>"
      ]
     },
     "metadata": {},
     "output_type": "display_data"
    }
   ],
   "source": [
    "# plot loss curve\n",
    "plt.plot(range(epochs),losses)\n",
    "plt.ylabel('Loss')\n",
    "plt.xlabel('Epochs')\n",
    "plt.title(\"Training Loss curve\")\n",
    "plt.show()\n"
   ]
  },
  {
   "cell_type": "code",
   "execution_count": null,
   "id": "e4c9ddd3",
   "metadata": {},
   "outputs": [],
   "source": []
  }
 ],
 "metadata": {
  "kernelspec": {
   "display_name": "Python 3 (ipykernel)",
   "language": "python",
   "name": "python3"
  },
  "language_info": {
   "codemirror_mode": {
    "name": "ipython",
    "version": 3
   },
   "file_extension": ".py",
   "mimetype": "text/x-python",
   "name": "python",
   "nbconvert_exporter": "python",
   "pygments_lexer": "ipython3",
   "version": "3.9.16"
  }
 },
 "nbformat": 4,
 "nbformat_minor": 5
}
